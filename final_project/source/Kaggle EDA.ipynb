{
 "cells": [
  {
   "cell_type": "markdown",
   "metadata": {
    "collapsed": true
   },
   "source": [
    "# Kaggle EDA"
   ]
  },
  {
   "cell_type": "code",
   "execution_count": 1,
   "metadata": {},
   "outputs": [
    {
     "name": "stdout",
     "output_type": "stream",
     "text": [
      "50 images processed\n",
      "100 images processed\n",
      "150 images processed\n",
      "200 images processed\n",
      "250 images processed\n",
      "300 images processed\n",
      "350 images processed\n",
      "400 images processed\n",
      "450 images processed\n",
      "500 images processed\n",
      "550 images processed\n",
      "600 images processed\n",
      "650 images processed\n",
      "There are 9 unique image sizes\n",
      "{(520, 696), (256, 256), (256, 320), (1024, 1024), (512, 640), (603, 1272), (260, 347), (360, 360), (1040, 1388)}\n"
     ]
    }
   ],
   "source": [
    "import kaggle_utils\n",
    "import os\n",
    "\n",
    "path = os.getcwd()+'\\stage1_train'\n",
    "\n",
    "#import images and masks to numpy arrays\n",
    "images, masks, description = kaggle_utils.image_to_numpy(path)\n"
   ]
  },
  {
   "cell_type": "code",
   "execution_count": 32,
   "metadata": {},
   "outputs": [
    {
     "data": {
      "image/png": "[encoded data removed]",
      "text/plain": [
       "<matplotlib.figure.Figure at 0x1ec95a72400>"
      ]
     },
     "metadata": {},
     "output_type": "display_data"
    },
    {
     "name": "stdout",
     "output_type": "stream",
     "text": [
      "[[ 256  445]\n",
      " [ 260    3]\n",
      " [ 360   90]\n",
      " [ 512   13]\n",
      " [ 520   90]\n",
      " [ 603    6]\n",
      " [1024   16]\n",
      " [1040    1]]\n"
     ]
    },
    {
     "data": {
      "image/png": "[encoded data removed]",
      "text/plain": [
       "<matplotlib.figure.Figure at 0x1ec979e2518>"
      ]
     },
     "metadata": {},
     "output_type": "display_data"
    },
    {
     "name": "stdout",
     "output_type": "stream",
     "text": [
      "[[ 256  334]\n",
      " [ 320  111]\n",
      " [ 347    3]\n",
      " [ 360   90]\n",
      " [ 640   13]\n",
      " [ 696   90]\n",
      " [1024   16]\n",
      " [1272    6]\n",
      " [1388    1]]\n"
     ]
    }
   ],
   "source": [
    "#visualize data\n",
    "import numpy as np\n",
    "import matplotlib.pyplot as plt\n",
    "length=  []\n",
    "width = []\n",
    "for indx in sorted(description):\n",
    "    length.append(description[indx][0])\n",
    "    width.append(description[indx][1])\n",
    "length = np.asarray(length)\n",
    "width = np.asarray(width)\n",
    "\n",
    "\n",
    "h1 =plt.hist(length)\n",
    "plt.title('length histogram')\n",
    "plt.show()\n",
    "\n",
    "unique, counts = np.unique(length, return_counts=True)\n",
    "print(np.asarray((unique, counts)).T)\n",
    "\n",
    "\n",
    "h2 =plt.hist(width)\n",
    "plt.title('width histogram')\n",
    "plt.show()\n",
    "\n",
    "unique, counts = np.unique(width, return_counts=True)\n",
    "print(np.asarray((unique, counts)).T)\n",
    "    \n"
   ]
  },
  {
   "cell_type": "markdown",
   "metadata": {},
   "source": [
    " ## Approach"
   ]
  },
  {
   "cell_type": "code",
   "execution_count": null,
   "metadata": {
    "collapsed": true
   },
   "outputs": [],
   "source": [
    "# plot image of each kind\n",
    "# attach functions for image preprocessing and unet code\n",
    "# call brian and ask about changing unet input size to one standard size - how does this change unet structure?\n",
    "# put on box"
   ]
  }
 ],
 "metadata": {
  "kernelspec": {
   "display_name": "Python 3",
   "language": "python",
   "name": "python3"
  },
  "language_info": {
   "codemirror_mode": {
    "name": "ipython",
    "version": 3
   },
   "file_extension": ".py",
   "mimetype": "text/x-python",
   "name": "python",
   "nbconvert_exporter": "python",
   "pygments_lexer": "ipython3",
   "version": "3.6.1"
  }
 },
 "nbformat": 4,
 "nbformat_minor": 1
}
